{
 "cells": [
  {
   "cell_type": "code",
   "execution_count": 1,
   "metadata": {},
   "outputs": [],
   "source": [
    "import Bio"
   ]
  },
  {
   "cell_type": "code",
   "execution_count": 2,
   "metadata": {},
   "outputs": [
    {
     "name": "stdout",
     "output_type": "stream",
     "text": [
      "tataaaggcAATATGCAGTAG\n",
      "<class 'Bio.Seq.Seq'>\n"
     ]
    }
   ],
   "source": [
    "# 1. Create Sequence Object\n",
    "\n",
    "from Bio.Seq import Seq\n",
    "\n",
    "tatabox_seq = Seq(\"tataaaggcAATATGCAGTAG\")\n",
    "print(tatabox_seq)\n",
    "print(type(tatabox_seq))"
   ]
  },
  {
   "cell_type": "markdown",
   "metadata": {},
   "source": [
    "There should be information about the Sequence object.\n",
    "We can add an Information about type of this sequence (DNA, RNA or amino acid) using the Alphabet module."
   ]
  },
  {
   "cell_type": "code",
   "execution_count": 3,
   "metadata": {},
   "outputs": [
    {
     "name": "stdout",
     "output_type": "stream",
     "text": [
      "tataaaggcAATATGCAGTAG\n",
      "<class 'Bio.Seq.Seq'>\n"
     ]
    }
   ],
   "source": [
    "#2. Alpabet Module\n",
    "\n",
    "from Bio.Alphabet import IUPAC\n",
    "\n",
    "tatabox_seq = Seq(\"tataaaggcAATATGCAGTAG\", IUPAC.unambiguous_dna)\n",
    "print(tatabox_seq)\n",
    "print(type(tatabox_seq))"
   ]
  },
  {
   "cell_type": "markdown",
   "metadata": {},
   "source": [
    "The IUPAC module contains several objects as well as objects representing DNA."
   ]
  },
  {
   "cell_type": "markdown",
   "metadata": {},
   "source": [
    "Now that we have a Sequence object, we can use it with Sequence object methods."
   ]
  },
  {
   "cell_type": "code",
   "execution_count": 4,
   "metadata": {},
   "outputs": [
    {
     "name": "stdout",
     "output_type": "stream",
     "text": [
      "3\n"
     ]
    }
   ],
   "source": [
    "#3. Count Base Number in Sequence \n",
    "from Bio.Seq import Seq\n",
    "\n",
    "my_seq = Seq(\"ATGCAGTAG\")\n",
    "count_a = my_seq.count(\"A\")\n",
    "\n",
    "print(count_a) #count the number of Adenin base"
   ]
  },
  {
   "cell_type": "markdown",
   "metadata": {},
   "source": [
    "You can calculate the GC-contents (%), which tells you how much G and C smoke is in the sequence.\n",
    "GC-contents(%) = ((count_C + count_G)/(count_totalbase))*100(%)"
   ]
  },
  {
   "cell_type": "code",
   "execution_count": 5,
   "metadata": {},
   "outputs": [
    {
     "name": "stdout",
     "output_type": "stream",
     "text": [
      "44.44444444444444\n"
     ]
    }
   ],
   "source": [
    "#4. Calculate the GC-contents in this Sequence Object\n",
    "\n",
    "count_c = my_seq.count(\"C\")\n",
    "count_g = my_seq.count(\"G\")\n",
    "count_totalbase = len(my_seq)\n",
    "\n",
    "GC_contents = ((count_c + count_g)/count_totalbase)*100\n",
    "\n",
    "print(GC_contents)"
   ]
  },
  {
   "cell_type": "code",
   "execution_count": 6,
   "metadata": {},
   "outputs": [
    {
     "name": "stdout",
     "output_type": "stream",
     "text": [
      "TATAAGGCAATATGCAGTAG\n",
      "tataaggcaatatgcagtag\n"
     ]
    }
   ],
   "source": [
    "#5. Converting Sequence Object Upper,Lowercase Letters\n",
    "\n",
    "tatabox_seq = Seq(\"tataaggCAATATGCAGTAG\")\n",
    "print(tatabox_seq.upper())\n",
    "print(tatabox_seq.lower())"
   ]
  },
  {
   "cell_type": "markdown",
   "metadata": {},
   "source": [
    "DNA is transcribed into mRNA and translated into protein.  This is the central principle of molecular biology. "
   ]
  },
  {
   "cell_type": "code",
   "execution_count": 7,
   "metadata": {},
   "outputs": [
    {
     "name": "stdout",
     "output_type": "stream",
     "text": [
      "AUGCAGUAGACU\n",
      "MQ*T\n"
     ]
    }
   ],
   "source": [
    "#6. Transcribing and Translating Sequence Objects\n",
    "\n",
    "my_dna = Seq(\"ATGCAGTAGACT\")\n",
    "my_mrna = my_dna.transcribe()\n",
    "my_protein = my_dna.translate()\n",
    "\n",
    "print(my_mrna)\n",
    "print(my_protein)"
   ]
  },
  {
   "cell_type": "markdown",
   "metadata": {},
   "source": [
    "If you see a stop codon while translating to a protein, you should stop translating.\n",
    "There's the way to end the translation at the first stop codon."
   ]
  },
  {
   "cell_type": "code",
   "execution_count": 8,
   "metadata": {},
   "outputs": [
    {
     "name": "stdout",
     "output_type": "stream",
     "text": [
      "MN*V*N\n",
      "MN\n"
     ]
    }
   ],
   "source": [
    "#7. Stop Translate \n",
    "my_mrna = Seq(\"AUGAACUAAGUUUAGAAU\")\n",
    "my_protein = my_mrna.translate()\n",
    "my_protein_stop = my_mrna.translate(to_stop = True)\n",
    "\n",
    "print(my_protein)\n",
    "print(my_protein_stop)"
   ]
  },
  {
   "cell_type": "code",
   "execution_count": 9,
   "metadata": {},
   "outputs": [
    {
     "name": "stdout",
     "output_type": "stream",
     "text": [
      "MN*V*N\n",
      "MN\n",
      "V\n",
      "N\n"
     ]
    }
   ],
   "source": [
    "#8. Split by Stop Translation\n",
    "my_mrna = Seq(\"AUGAACUAAGUUUAGAAU\")\n",
    "my_protein = my_mrna.translate()\n",
    "print(my_protein)\n",
    "\n",
    "for seq in my_protein.split('*'):\n",
    "    print(seq)"
   ]
  },
  {
   "cell_type": "markdown",
   "metadata": {},
   "source": [
    "DNA bases are paired with adenine and thymine by double bonds, and guanine and cytosine by triple bonds. This is called a complementary relationship."
   ]
  },
  {
   "cell_type": "code",
   "execution_count": 10,
   "metadata": {},
   "outputs": [
    {
     "name": "stdout",
     "output_type": "stream",
     "text": [
      "ATATTTCCGTTATACGTCATC\n",
      "CTACTGCATATTGCCTTTATA\n"
     ]
    }
   ],
   "source": [
    "#9-1. Create complementary and reverse complementary sequences of DNA sequence in Python\n",
    "\n",
    "my_dna = \"TATAAAGGCAATATGCAGTAG\"\n",
    "comp_dic ={'A':'T', 'T':'A', 'G':'C', 'C':'G'}#Create a dictionary with complementary bases as key-values.\n",
    "\n",
    "comp_seq = \"\"\n",
    "\n",
    "for base in my_dna:\n",
    "    comp_seq += comp_dic[base]\n",
    "\n",
    "revcomp_seq = comp_seq[::-1]\n",
    "\n",
    "print(comp_seq)\n",
    "print(revcomp_seq)\n"
   ]
  },
  {
   "cell_type": "code",
   "execution_count": 11,
   "metadata": {},
   "outputs": [
    {
     "name": "stdout",
     "output_type": "stream",
     "text": [
      "ATATTTCCGTTATACGTCATC\n",
      "CTACTGCATATTGCCTTTATA\n"
     ]
    }
   ],
   "source": [
    "#9-2. Create complementary and reverse complementary sequences of DNA sequence in BioPython\n",
    "\n",
    "my_dna = Seq(\"TATAAAGGCAATATGCAGTAG\")\n",
    "\n",
    "comp_seq = my_dna.complement()\n",
    "revcomp_seq = my_dna.reverse_complement()\n",
    "\n",
    "print(comp_seq)\n",
    "print(revcomp_seq)"
   ]
  },
  {
   "cell_type": "markdown",
   "metadata": {},
   "source": [
    "As a result of DNA transcription, mrna is produced.\n",
    "The translation process reads the three bases of mrna and generates the corresponding amino acids according to codon table. \n",
    "You can print a codon table using BioPython."
   ]
  },
  {
   "cell_type": "code",
   "execution_count": 12,
   "metadata": {},
   "outputs": [
    {
     "name": "stdout",
     "output_type": "stream",
     "text": [
      "Table 1 Standard, SGC0\n",
      "\n",
      "  |  T      |  C      |  A      |  G      |\n",
      "--+---------+---------+---------+---------+--\n",
      "T | TTT F   | TCT S   | TAT Y   | TGT C   | T\n",
      "T | TTC F   | TCC S   | TAC Y   | TGC C   | C\n",
      "T | TTA L   | TCA S   | TAA Stop| TGA Stop| A\n",
      "T | TTG L(s)| TCG S   | TAG Stop| TGG W   | G\n",
      "--+---------+---------+---------+---------+--\n",
      "C | CTT L   | CCT P   | CAT H   | CGT R   | T\n",
      "C | CTC L   | CCC P   | CAC H   | CGC R   | C\n",
      "C | CTA L   | CCA P   | CAA Q   | CGA R   | A\n",
      "C | CTG L(s)| CCG P   | CAG Q   | CGG R   | G\n",
      "--+---------+---------+---------+---------+--\n",
      "A | ATT I   | ACT T   | AAT N   | AGT S   | T\n",
      "A | ATC I   | ACC T   | AAC N   | AGC S   | C\n",
      "A | ATA I   | ACA T   | AAA K   | AGA R   | A\n",
      "A | ATG M(s)| ACG T   | AAG K   | AGG R   | G\n",
      "--+---------+---------+---------+---------+--\n",
      "G | GTT V   | GCT A   | GAT D   | GGT G   | T\n",
      "G | GTC V   | GCC A   | GAC D   | GGC G   | C\n",
      "G | GTA V   | GCA A   | GAA E   | GGA G   | A\n",
      "G | GTG V   | GCG A   | GAG E   | GGG G   | G\n",
      "--+---------+---------+---------+---------+--\n"
     ]
    }
   ],
   "source": [
    "#10-1. Standard Codon Table\n",
    "from Bio.Data import CodonTable\n",
    "\n",
    "codon_table = CodonTable.unambiguous_dna_by_name[\"Standard\"] #standard codon table\n",
    "print(codon_table)"
   ]
  },
  {
   "cell_type": "code",
   "execution_count": 13,
   "metadata": {},
   "outputs": [
    {
     "name": "stdout",
     "output_type": "stream",
     "text": [
      "Table 2 Vertebrate Mitochondrial, SGC1\n",
      "\n",
      "  |  T      |  C      |  A      |  G      |\n",
      "--+---------+---------+---------+---------+--\n",
      "T | TTT F   | TCT S   | TAT Y   | TGT C   | T\n",
      "T | TTC F   | TCC S   | TAC Y   | TGC C   | C\n",
      "T | TTA L   | TCA S   | TAA Stop| TGA W   | A\n",
      "T | TTG L   | TCG S   | TAG Stop| TGG W   | G\n",
      "--+---------+---------+---------+---------+--\n",
      "C | CTT L   | CCT P   | CAT H   | CGT R   | T\n",
      "C | CTC L   | CCC P   | CAC H   | CGC R   | C\n",
      "C | CTA L   | CCA P   | CAA Q   | CGA R   | A\n",
      "C | CTG L   | CCG P   | CAG Q   | CGG R   | G\n",
      "--+---------+---------+---------+---------+--\n",
      "A | ATT I(s)| ACT T   | AAT N   | AGT S   | T\n",
      "A | ATC I(s)| ACC T   | AAC N   | AGC S   | C\n",
      "A | ATA M(s)| ACA T   | AAA K   | AGA Stop| A\n",
      "A | ATG M(s)| ACG T   | AAG K   | AGG Stop| G\n",
      "--+---------+---------+---------+---------+--\n",
      "G | GTT V   | GCT A   | GAT D   | GGT G   | T\n",
      "G | GTC V   | GCC A   | GAC D   | GGC G   | C\n",
      "G | GTA V   | GCA A   | GAA E   | GGA G   | A\n",
      "G | GTG V(s)| GCG A   | GAG E   | GGG G   | G\n",
      "--+---------+---------+---------+---------+--\n"
     ]
    }
   ],
   "source": [
    "#10-2. Mitochondria Codon Table\n",
    "\n",
    "mito_codon_table =CodonTable.unambiguous_dna_by_name[\"Vertebrate Mitochondrial\"]\n",
    "print(mito_codon_table)"
   ]
  },
  {
   "cell_type": "markdown",
   "metadata": {},
   "source": [
    "The ORF is an Open Reading Frame, which is a base that is likely to make a protein, starting with ATG, the start codon, and ending with the stop codon.\n",
    "\n",
    "Therefore, finding the ORF means finding the sequence between the start codon and the end codon."
   ]
  },
  {
   "cell_type": "code",
   "execution_count": 14,
   "metadata": {},
   "outputs": [
    {
     "name": "stdout",
     "output_type": "stream",
     "text": [
      "ATGCAGTAG\n"
     ]
    }
   ],
   "source": [
    "#11. Find Open Reading Frame\n",
    "\n",
    "tatabox_seq = Seq(\"tataaaggcAATATGCAGTAG\")\n",
    "start_idx = tatabox_seq.find(\"ATG\")\n",
    "end_idx = tatabox_seq.find(\"TAG\", start_idx) #More than this, there are 'TAA', 'TAG', and 'TGA' in the termination codon.\n",
    "\n",
    "orf = tatabox_seq[start_idx:end_idx+3] #have to include end_idx \n",
    "\n",
    "print(orf)\n"
   ]
  },
  {
   "cell_type": "code",
   "execution_count": 15,
   "metadata": {},
   "outputs": [
    {
     "data": {
      "text/html": [
       "<style>.container {width:90% !important;}</style>"
      ],
      "text/plain": [
       "<IPython.core.display.HTML object>"
      ]
     },
     "metadata": {},
     "output_type": "display_data"
    }
   ],
   "source": [
    "from IPython.core.display import display, HTML\n",
    "display(HTML(\"<style>.container {width:90% !important;}</style>\"))"
   ]
  }
 ],
 "metadata": {
  "kernelspec": {
   "display_name": "Python 3",
   "language": "python",
   "name": "python3"
  },
  "language_info": {
   "codemirror_mode": {
    "name": "ipython",
    "version": 3
   },
   "file_extension": ".py",
   "mimetype": "text/x-python",
   "name": "python",
   "nbconvert_exporter": "python",
   "pygments_lexer": "ipython3",
   "version": "3.6.9"
  }
 },
 "nbformat": 4,
 "nbformat_minor": 2
}
