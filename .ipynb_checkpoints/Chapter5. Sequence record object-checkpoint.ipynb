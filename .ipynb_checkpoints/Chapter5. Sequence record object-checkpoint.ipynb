{
 "cells": [
  {
   "cell_type": "markdown",
   "metadata": {},
   "source": [
    "# Sequence record 객체"
   ]
  },
  {
   "cell_type": "markdown",
   "metadata": {},
   "source": [
    "이번 장에서는 Sequence record 객체의 속성에 대해 알아보고 \n",
    "FASTA파일과 GenBank파일을 읽어 SeqRecord객체를 만들어보도록 합니다. "
   ]
  },
  {
   "cell_type": "markdown",
   "metadata": {},
   "source": [
    "## 1. SeqRecord 객체\n",
    "SeqRecord(Sequence recod) 객체는 Chapter4에서 학습한 Seq객체에 **추가적인 정보**를 넣을 수 있는 객체입니다. 단순히 서열만 다룬다면 Seq객체를 사용하면 지만 **서열 외에 서열의 이름, NCBI의 ID 등과 같이 추가적인 정보들을 한 객체 안에 넣어야 한다면 SeqRecord**를 사용하는 것이 바람직합니다. "
   ]
  },
  {
   "cell_type": "markdown",
   "metadata": {},
   "source": [
    "### 1) SeqRecord 객체 생성 방법 1. 문자열(Seq객체)로부터 SeqRecord 객체 만들기"
   ]
  },
  {
   "cell_type": "code",
   "execution_count": 1,
   "metadata": {},
   "outputs": [
    {
     "name": "stdout",
     "output_type": "stream",
     "text": [
      "ID: <unknown id>\n",
      "Name: <unknown name>\n",
      "Description: <unknown description>\n",
      "Number of features: 0\n",
      "Seq('ACGT')\n"
     ]
    }
   ],
   "source": [
    "#1. Seq 객체에서 SeqRecord 객체 생성하기\n",
    "from Bio.Seq import Seq\n",
    "from Bio.SeqRecord import SeqRecord\n",
    "\n",
    "#먼저 Sequence 객체를 만듭니다. \n",
    "my_seq = Seq(\"ACGT\")\n",
    "#SeqRecord 객체를 만듭니다. \n",
    "my_seqRecord = SeqRecord(my_seq)\n",
    "\n",
    "print(my_seqRecord)"
   ]
  },
  {
   "cell_type": "markdown",
   "metadata": {},
   "source": [
    "Sequence객체만 넣어서 SeqRecord객체를 만들었기 때문에 Seq을 제외한 나머지 속성들은 unknown으로 표기 된 것입니다. \n",
    "이제 각 속성에 정보를 대입하는 것을 해봅니다. "
   ]
  },
  {
   "cell_type": "code",
   "execution_count": 3,
   "metadata": {},
   "outputs": [
    {
     "name": "stdout",
     "output_type": "stream",
     "text": [
      "ID: NC_1111\n",
      "Name: Test\n",
      "Description: <unknown description>\n",
      "Number of features: 0\n",
      "Seq('ATGC')\n"
     ]
    }
   ],
   "source": [
    "#2. SeqRecord 객체생성시 초기값 넣기\n",
    "my_seq = Seq(\"ATGC\")\n",
    "my_seqRecord = SeqRecord(my_seq, id= \"NC_1111\", name= \"Test\") #SeqRecord친 뒤 shift+tab누르면 대입할 수 있는 속성값 정보가 나옵니다. \n",
    "\n",
    "print(my_seqRecord)"
   ]
  },
  {
   "cell_type": "markdown",
   "metadata": {},
   "source": [
    "SeqRecord(\n",
    "\n",
    "    seq, 서열을 의미\n",
    "    id= Locus와 같은 ID를 의미\n",
    "    name= 서열의 이름을 의미하며 유전자 이름과 같은 것이 들어갈 수도 있다. \n",
    "    description= 추가 설명\n",
    "    dbxrefs= 추가 데이터베이스가 있다면 내용이 들어간다. \n",
    "    features= 서열 구간에 대한 특징이 들어간다. \n",
    "    annotations= 추가 설명이 파이썬 사전형 형태로 넣을 수 있다. \n",
    "    letter_annotations= 파이썬 사전형 형태로 사용자가 추가 설명을 키-값 싸응로 넣을 수 있다. \n",
    ")"
   ]
  },
  {
   "cell_type": "code",
   "execution_count": 4,
   "metadata": {},
   "outputs": [
    {
     "name": "stdout",
     "output_type": "stream",
     "text": [
      "ID: NC_1111\n",
      "Name: another Test\n",
      "Description: <unknown description>\n",
      "Number of features: 0\n",
      "Seq('ATGC')\n"
     ]
    }
   ],
   "source": [
    "#3. 각 속성값에 접근하기  : dot notation을 사용하면 됩니다. \n",
    "\n",
    "my_seqRecord.name = \"another Test\"\n",
    "print(my_seqRecord)\n"
   ]
  },
  {
   "cell_type": "markdown",
   "metadata": {},
   "source": [
    "### 2) SeqRecord 객체 생성 방법 2. FASTA 파일로부터 SeqRecord 객체 만들기"
   ]
  },
  {
   "cell_type": "code",
   "execution_count": 14,
   "metadata": {},
   "outputs": [
    {
     "name": "stdout",
     "output_type": "stream",
     "text": [
      "<class 'Bio.SeqRecord.SeqRecord'>\n",
      "ID: gi|45478711|ref|NC_005816.1|\n",
      "Name: gi|45478711|ref|NC_005816.1|\n",
      "Description: gi|45478711|ref|NC_005816.1| Yersinia pestis biovar Microtus str. 91001 plasmid pPCP1, complete sequence\n",
      "Number of features: 0\n",
      "Seq('TGTAACGAACGGTGCAATAGTGATCCACACCCAACGCCTGAAATCAGATCCAGG...CTG', SingleLetterAlphabet())\n"
     ]
    }
   ],
   "source": [
    "#4. FASTA파일에서 SeqRecord 객체 생성하기\n",
    "\n",
    "#먼저 FASTA파일을 읽어 SeqRecord객체로 만들기 위해 바이오파이썬의 SeqIO.read()메서드를 사용합니다. \n",
    "#SeqIO.read(파일, 파일 종류) \n",
    "\n",
    "from Bio import SeqIO\n",
    "\n",
    "my_FASTA = SeqIO.read(\"NC_005816.fna\", \"fasta\")\n",
    "print(type(my_FASTA))\n",
    "print(my_FASTA)"
   ]
  },
  {
   "cell_type": "markdown",
   "metadata": {},
   "source": [
    "### 3) SeqRecord 객체 생성 방법 3. GenBank 파일로부터 SeqRecord 객체 만들기"
   ]
  },
  {
   "cell_type": "code",
   "execution_count": 15,
   "metadata": {},
   "outputs": [
    {
     "name": "stdout",
     "output_type": "stream",
     "text": [
      "<class 'Bio.SeqRecord.SeqRecord'>\n",
      "ID: NC_005816.1\n",
      "Name: NC_005816\n",
      "Description: Yersinia pestis biovar Microtus str. 91001 plasmid pPCP1, complete sequence\n",
      "Database cross-references: Project:58037\n",
      "Number of features: 41\n",
      "/molecule_type=DNA\n",
      "/topology=circular\n",
      "/data_file_division=BCT\n",
      "/date=21-JUL-2008\n",
      "/accessions=['NC_005816']\n",
      "/sequence_version=1\n",
      "/gi=45478711\n",
      "/keywords=['']\n",
      "/source=Yersinia pestis biovar Microtus str. 91001\n",
      "/organism=Yersinia pestis biovar Microtus str. 91001\n",
      "/taxonomy=['Bacteria', 'Proteobacteria', 'Gammaproteobacteria', 'Enterobacteriales', 'Enterobacteriaceae', 'Yersinia']\n",
      "/references=[Reference(title='Genetics of metabolic variations between Yersinia pestis biovars and the proposal of a new biovar, microtus', ...), Reference(title='Complete genome sequence of Yersinia pestis strain 91001, an isolate avirulent to humans', ...), Reference(title='Direct Submission', ...), Reference(title='Direct Submission', ...)]\n",
      "/comment=PROVISIONAL REFSEQ: This record has not yet been subject to final\n",
      "NCBI review. The reference sequence was derived from AE017046.\n",
      "COMPLETENESS: full length.\n",
      "Seq('TGTAACGAACGGTGCAATAGTGATCCACACCCAACGCCTGAAATCAGATCCAGG...CTG', IUPACAmbiguousDNA())\n"
     ]
    }
   ],
   "source": [
    "#5. GenBank파일에서 SeqRecord 객체 생성하기\n",
    "from Bio import SeqIO\n",
    "\n",
    "my_genbank = SeqIO.read(\"NC_005816.gb\", \"genbank\")\n",
    "print(type(my_genbank))\n",
    "print(my_genbank)"
   ]
  },
  {
   "cell_type": "markdown",
   "metadata": {},
   "source": [
    "그 외에도  biopython에서 지원하는 파일 형식 목록은 \n",
    "http://www.biopython.org/wiki/SeqIO#file-formats\n",
    "\n",
    "출처: https://korbillgates.tistory.com/89 [생물정보학자의 블로그]\n"
   ]
  },
  {
   "cell_type": "markdown",
   "metadata": {},
   "source": [
    "## 2. SeqRecord 객체 간 비교하기\n",
    "SeqRecord 자체를 통째로 비교연산자를 사용해서 비교하면 NotImplementedError가 발생한다. \n",
    "즉, **SeqRecord의 각 속성을 비교해야 한다.**"
   ]
  },
  {
   "cell_type": "code",
   "execution_count": 17,
   "metadata": {},
   "outputs": [
    {
     "name": "stdout",
     "output_type": "stream",
     "text": [
      "True\n"
     ]
    }
   ],
   "source": [
    "#6. SeqRecord 객체 간 속성 비교\n",
    "from Bio.Seq import Seq\n",
    "from Bio.SeqRecord import SeqRecord\n",
    "\n",
    "seq1 = Seq(\"ACGT\")\n",
    "record1 = SeqRecord(seq1)\n",
    "\n",
    "seq2 = Seq(\"ACGT\")\n",
    "record2 = SeqRecord(seq2)\n",
    "\n",
    "print(record1.seq == record2.seq)"
   ]
  },
  {
   "cell_type": "markdown",
   "metadata": {},
   "source": []
  }
 ],
 "metadata": {
  "kernelspec": {
   "display_name": "Python 3",
   "language": "python",
   "name": "python3"
  },
  "language_info": {
   "codemirror_mode": {
    "name": "ipython",
    "version": 3
   },
   "file_extension": ".py",
   "mimetype": "text/x-python",
   "name": "python",
   "nbconvert_exporter": "python",
   "pygments_lexer": "ipython3",
   "version": "3.6.9"
  }
 },
 "nbformat": 4,
 "nbformat_minor": 2
}
