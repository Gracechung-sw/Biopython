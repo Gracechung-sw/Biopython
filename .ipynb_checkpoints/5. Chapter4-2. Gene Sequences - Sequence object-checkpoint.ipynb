{
 "cells": [
  {
   "cell_type": "markdown",
   "metadata": {},
   "source": [
    "#### Bio.SeqUtils 모듈 사용\n",
    "Bio.SeqUtils 모듈은 4-1에서 진행했던 GC-contents간단 계산과 서열의 무게 계산, 유전 서열에서 나올 수 있는 모든 아미노산 서열을 정리해서 보여주는 메서드를 포함하고 있다. \n"
   ]
  },
  {
   "cell_type": "code",
   "execution_count": null,
   "metadata": {},
   "outputs": [],
   "source": [
    "from Bio.Seq import Seq\n",
    "from Bio.SeqUtils import GC"
   ]
  },
  {
   "cell_type": "code",
   "execution_count": null,
   "metadata": {},
   "outputs": [],
   "source": [
    "#1. Bio.SeqUtils로 GC-contents 계산\n",
    "exon_seq = Seq(\"ATGCAGTAG\")\n",
    "gc_contents = GC(exon_seq) #Bio.SeqUtils로 GC-contents 계산\n",
    "#Bio.SeqUtils을 사용하지 않았다면, (exon_seq.count(\"G\")+exon_seq.count(\"C\")/len(exon_seq))*100으로 했어야 한다. \n",
    "\n",
    "print(gc_contents)"
   ]
  },
  {
   "cell_type": "code",
   "execution_count": null,
   "metadata": {},
   "outputs": [],
   "source": [
    "#2. Bio.SeqUtils로 서열의 무게 계산하기\n",
    "# Bio.Alphabet의 IUPAC으로 서열의 종류 파악 -> Bio.SeqUtils의 molecular_weight로 서열의 무게 계산하기\n",
    "from Bio.Seq import Seq\n",
    "from Bio.Alphabet import IUPAC\n",
    "from Bio.SeqUtils import molecular_weight\n",
    "\n",
    "seq1 = Seq(\"ATGCAGTAG\")\n",
    "seq2 = Seq(\"ATGCAGTAG\", IUPAC.unambiguous_dna)\n",
    "seq3 = Seq(\"ATGCAGTAG\", IUPAC.protein)\n",
    "\n",
    "print(molecular_weight(seq1))\n",
    "print(molecular_weight(seq2))\n",
    "print(molecular_weight(seq3))"
   ]
  },
  {
   "cell_type": "code",
   "execution_count": null,
   "metadata": {},
   "outputs": [],
   "source": [
    "Bio.SeqUtils의 six_frame_translations 메서드로 DNA서열에서 가능한 모든 6개의 번역된 서열 (forward로 한 칸씩 밀려가면서 3개, backward로 한 칸씩 밀려가면서 3개)\n",
    "을 구할 수 있다. "
   ]
  },
  {
   "cell_type": "code",
   "execution_count": null,
   "metadata": {},
   "outputs": [],
   "source": [
    "#3. Bio.SeqUtils로 가능한 모든 번역 구하기 \n",
    "from Bio.Seq import Seq\n",
    "from Bio.SeqUtils import six_frame_translations\n",
    "\n",
    "my_seq = Seq(\"ATGCCTTGAAATGTATAG\")\n",
    "print(six_frame_translations(my_seq))"
   ]
  },
  {
   "cell_type": "markdown",
   "metadata": {},
   "source": [
    "Bio.SeqUtils의 MeltingTemp메서드로 DNA의 Tm을 계산 할 수 있다. \n",
    "Tm : DNA 이중 나선의 절반이 단일 가닥으로 풀어지는데 필요한 온도\n",
    "\n",
    "*GC 간 결합이 AT간 결합 보다 결합력이 세기 때문에 GC-contents가 높을수록 Tm값이 올라간다. "
   ]
  },
  {
   "cell_type": "code",
   "execution_count": null,
   "metadata": {},
   "outputs": [],
   "source": [
    "#4. calculate melting temperature\n",
    "\n",
    "from Bio.Seq import Seq\n",
    "from Bio.SeqUtils import MeltingTemp as mt\n",
    "\n",
    "my_seq = Seq(\"AGTCTGGGACGGCGGCGCGGCAATCGCA\")\n",
    "print(mt.m_Wallance(my_seq))"
   ]
  },
  {
   "cell_type": "markdown",
   "metadata": {},
   "source": [
    "Bio.SeqUtils의\n",
    "seq1 메소드 : 아미노산 서열 기호를 약자로 변형\n",
    "seq3 메소드 : 아미노산 서열 약자를 기호로 변형"
   ]
  },
  {
   "cell_type": "code",
   "execution_count": null,
   "metadata": {},
   "outputs": [],
   "source": [
    "#5-1. convert aminoacid 1 alphabet 기호 to 3 altphabets 약자 \n",
    "from Bio.SeqUtils import seq1, seq3\n",
    "\n",
    "essential_amino_acid_3 = \"LeuLysMetValIleThrTrpPhe\"\n",
    "print(seq1(essential_amino_acid_3))\n",
    "\n"
   ]
  },
  {
   "cell_type": "code",
   "execution_count": null,
   "metadata": {},
   "outputs": [],
   "source": [
    "#5-2. convert aminoacid 3 alphabets 약자 to 1 altphabet 기호 \n",
    "from Bio.SeqUtils import seq1, seq3\n",
    "\n",
    "essential_amino_acid_1 = \"LKMVITWF\"\n",
    "print(seq1(essential_amino_acid_1))"
   ]
  },
  {
   "cell_type": "markdown",
   "metadata": {},
   "source": [
    "### 연습문제"
   ]
  },
  {
   "cell_type": "code",
   "execution_count": null,
   "metadata": {},
   "outputs": [],
   "source": [
    "#### 1. 다음 서열을 Sequence 객체로 만들어 대문자로 변환하시오\n",
    "\n",
    "my_seq = Seq(\"aagtGACAGggatTG\")\n",
    "print(my_seq.Upper())"
   ]
  },
  {
   "cell_type": "code",
   "execution_count": null,
   "metadata": {},
   "outputs": [],
   "source": [
    "#### 2. 다음 서열을 첫 번째 종결 코돈까지 번역하시오\n",
    "from Bio.Seq import Seq\n",
    "\n",
    "my_seq = Seq(\"AAGTGACAGGGATTG\")\n",
    "my_protein = my_seq.translate(to_stop = True)\n",
    "\n",
    "print(my_protein)"
   ]
  },
  {
   "cell_type": "code",
   "execution_count": null,
   "metadata": {},
   "outputs": [],
   "source": [
    "#### 3. 다음 서열의 역상보 서열의 GC와 녹는점(Tm)을 계산하시오\n",
    "from Bio.Seq import Seq\n",
    "from Bio.SeqUtils import GC, MeltingTemp\n",
    "\n",
    "my_seq = Seq(\"AAGTGACAGGGATTG\")\n",
    "my_reverse_seq = my_seq.reverse_complement()\n",
    "\n",
    "print(GC(my_reverse_seq))\n",
    "print(MeltingTemp.Tm_Wallace(my_reverse_seq))"
   ]
  },
  {
   "cell_type": "code",
   "execution_count": null,
   "metadata": {},
   "outputs": [],
   "source": []
  }
 ],
 "metadata": {
  "kernelspec": {
   "display_name": "Python 3",
   "language": "python",
   "name": "python3"
  },
  "language_info": {
   "codemirror_mode": {
    "name": "ipython",
    "version": 3
   },
   "file_extension": ".py",
   "mimetype": "text/x-python",
   "name": "python",
   "nbconvert_exporter": "python",
   "pygments_lexer": "ipython3",
   "version": "3.6.9"
  }
 },
 "nbformat": 4,
 "nbformat_minor": 2
}
