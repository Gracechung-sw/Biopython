{
 "cells": [
  {
   "cell_type": "markdown",
   "metadata": {},
   "source": [
    "# FASTA, FASTQ, GenBank file - read Sequence"
   ]
  },
  {
   "cell_type": "markdown",
   "metadata": {},
   "source": [
    "이번 장에서는 SeqIO 모듈에 대해서 학습합니다. \n",
    "SeqIO 모듈 안에는 2가지 파일 읽기에 관련된 메서드를 제공합니다. \n",
    "    1. SeqIO.parse()\n",
    "    2. SeqIO.read()\n",
    "        "
   ]
  },
  {
   "cell_type": "markdown",
   "metadata": {},
   "source": [
    "## 1. FASTA파일의 Sequence 읽기"
   ]
  },
  {
   "cell_type": "markdown",
   "metadata": {},
   "source": [
    "### 1) SeqIO.parse() 로 읽기\n",
    "SeqIO.parse('파일 이름', '파일 종류')\n",
    "이 '파일 종류'는 https://biopython.org/wiki/SeqIO 에서 확인 할 수 있으며 \n",
    "대표적으로 \n",
    "1. clustal\n",
    "2. fasta\n",
    "3. fastq\n",
    "4. genbank\n",
    "등이 있습니다. "
   ]
  },
  {
   "cell_type": "code",
   "execution_count": 3,
   "metadata": {},
   "outputs": [
    {
     "name": "stdout",
     "output_type": "stream",
     "text": [
      "<class 'generator'>\n",
      "<class 'Bio.SeqRecord.SeqRecord'>\n",
      "ID: AF501235.1\n",
      "Name: AF501235.1\n",
      "Description: AF501235.1 Influenzavirus A (A/duck/Shanghai/1/2000) hemagglutinin gene, complete cds\n",
      "Number of features: 0\n",
      "Seq('ATGGAGAAAATAGTGCTTCTTCTTGCAATAGTCAGTCTTGTTAAAAGTGATCAG...AGA', SingleLetterAlphabet())\n"
     ]
    }
   ],
   "source": [
    "#1. read parse_example with SeqIO.parse()\n",
    "\n",
    "from Bio import SeqIO\n",
    "\n",
    "seq = SeqIO.parse(\"sample_1.fasta\", \"fasta\")\n",
    "print(type(seq))\n",
    "\n",
    "for s in seq:#s가 각 레코드를 순환하면서 읽음 \n",
    "    print(type(s))\n",
    "    print(s)"
   ]
  },
  {
   "cell_type": "code",
   "execution_count": 13,
   "metadata": {},
   "outputs": [
    {
     "name": "stdout",
     "output_type": "stream",
     "text": [
      "<class 'generator'>\n",
      "<class 'Bio.SeqRecord.SeqRecord'>\n",
      "ID: MH464856.1\n",
      "Name: MH464856.1\n",
      "Description: MH464856.1 Hepatitis B virus isolate MA134, complete genome\n",
      "Number of features: 0\n",
      "Seq('TTCCACAACATTCCACCAAGCTCTGCAGGATCCCAGAGTAAGAGGCCTGTATTT...GGG', SingleLetterAlphabet())\n",
      "\n",
      "<class 'Bio.SeqRecord.SeqRecord'>\n",
      "ID: CP002925.1\n",
      "Name: CP002925.1\n",
      "Description: CP002925.1 Streptococcus pseudopneumoniae IS7493, complete genome\n",
      "Number of features: 0\n",
      "Seq('TTGAAAGAAAAACAATTTTGGAATCGTATATTAGAATTTGCTCAAGAAAGACTG...ATC', SingleLetterAlphabet())\n",
      "\n"
     ]
    }
   ],
   "source": [
    "seq2 = SeqIO.parse(\"sample_2.fasta\", \"fasta\")\n",
    "print(type(seq2))\n",
    "\n",
    "for s in seq2: #s가 각 레코드를 순환하면서 읽음\n",
    "    print(type(s))\n",
    "    print(s)\n",
    "    print(\"\")"
   ]
  },
  {
   "cell_type": "code",
   "execution_count": 16,
   "metadata": {},
   "outputs": [
    {
     "name": "stdout",
     "output_type": "stream",
     "text": [
      "<class 'Bio.SeqRecord.SeqRecord'>\n",
      "ID: AF501235.1\n",
      "Name: AF501235.1\n",
      "Description: AF501235.1 Influenzavirus A (A/duck/Shanghai/1/2000) hemagglutinin gene, complete cds\n",
      "Number of features: 0\n",
      "Seq('ATGGAGAAAATAGTGCTTCTTCTTGCAATAGTCAGTCTTGTTAAAAGTGATCAG...AGA', SingleLetterAlphabet())\n"
     ]
    }
   ],
   "source": [
    "#2. read parse_example with SeqIO.read()\n",
    "\n",
    "seq1 = SeqIO.read(\"sample_1.fasta\", \"fasta\")\n",
    "print(type(seq1))\n",
    "print(seq1)"
   ]
  },
  {
   "cell_type": "code",
   "execution_count": 18,
   "metadata": {},
   "outputs": [
    {
     "ename": "ValueError",
     "evalue": "More than one record found in handle",
     "output_type": "error",
     "traceback": [
      "\u001b[0;31m---------------------------------------------------------------------------\u001b[0m",
      "\u001b[0;31mValueError\u001b[0m                                Traceback (most recent call last)",
      "\u001b[0;32m<ipython-input-18-a53a639ddf83>\u001b[0m in \u001b[0;36m<module>\u001b[0;34m\u001b[0m\n\u001b[0;32m----> 1\u001b[0;31m \u001b[0mseq2\u001b[0m \u001b[0;34m=\u001b[0m \u001b[0mSeqIO\u001b[0m\u001b[0;34m.\u001b[0m\u001b[0mread\u001b[0m\u001b[0;34m(\u001b[0m\u001b[0;34m\"sample_2.fasta\"\u001b[0m\u001b[0;34m,\u001b[0m \u001b[0;34m\"fasta\"\u001b[0m\u001b[0;34m)\u001b[0m\u001b[0;34m\u001b[0m\u001b[0;34m\u001b[0m\u001b[0m\n\u001b[0m\u001b[1;32m      2\u001b[0m \u001b[0mprint\u001b[0m\u001b[0;34m(\u001b[0m\u001b[0mtype\u001b[0m\u001b[0;34m(\u001b[0m\u001b[0mseq2\u001b[0m\u001b[0;34m)\u001b[0m\u001b[0;34m)\u001b[0m\u001b[0;34m\u001b[0m\u001b[0;34m\u001b[0m\u001b[0m\n\u001b[1;32m      3\u001b[0m \u001b[0mprint\u001b[0m\u001b[0;34m(\u001b[0m\u001b[0mseq2\u001b[0m\u001b[0;34m)\u001b[0m\u001b[0;34m\u001b[0m\u001b[0;34m\u001b[0m\u001b[0m\n",
      "\u001b[0;32m~/anaconda3/lib/python3.6/site-packages/Bio/SeqIO/__init__.py\u001b[0m in \u001b[0;36mread\u001b[0;34m(handle, format, alphabet)\u001b[0m\n\u001b[1;32m    752\u001b[0m         \u001b[0msecond\u001b[0m \u001b[0;34m=\u001b[0m \u001b[0;32mNone\u001b[0m\u001b[0;34m\u001b[0m\u001b[0;34m\u001b[0m\u001b[0m\n\u001b[1;32m    753\u001b[0m     \u001b[0;32mif\u001b[0m \u001b[0msecond\u001b[0m \u001b[0;32mis\u001b[0m \u001b[0;32mnot\u001b[0m \u001b[0;32mNone\u001b[0m\u001b[0;34m:\u001b[0m\u001b[0;34m\u001b[0m\u001b[0;34m\u001b[0m\u001b[0m\n\u001b[0;32m--> 754\u001b[0;31m         \u001b[0;32mraise\u001b[0m \u001b[0mValueError\u001b[0m\u001b[0;34m(\u001b[0m\u001b[0;34m\"More than one record found in handle\"\u001b[0m\u001b[0;34m)\u001b[0m\u001b[0;34m\u001b[0m\u001b[0;34m\u001b[0m\u001b[0m\n\u001b[0m\u001b[1;32m    755\u001b[0m     \u001b[0;32mreturn\u001b[0m \u001b[0mfirst\u001b[0m\u001b[0;34m\u001b[0m\u001b[0;34m\u001b[0m\u001b[0m\n\u001b[1;32m    756\u001b[0m \u001b[0;34m\u001b[0m\u001b[0m\n",
      "\u001b[0;31mValueError\u001b[0m: More than one record found in handle"
     ]
    }
   ],
   "source": [
    "seq2 = SeqIO.read(\"sample_2.fasta\", \"fasta\")\n",
    "print(type(seq2))\n",
    "print(seq2)"
   ]
  },
  {
   "cell_type": "markdown",
   "metadata": {},
   "source": [
    "레코드가 2개 이상인 경우, SeqIO.read()를 사용하면 More than one record found in handle 에러가 납니다. \n",
    "\n",
    "이게 SeqIO.parse()와 SeqIO.read()의 큰 차이로, \n",
    "\n",
    "SeqIO.parse() 메서드로 파일을 읽으면 레코드 개수만큼 SeqRecored 객체가 iterable한 generator가 객체로 생성되지만\n",
    "\n",
    "SeqIO.read() 메서드로 파일을 읽으면 1개의 SeqRecord 객체가 만들어지므로 여러 개의 레코드가 담긴 파일을 읽으면 오류가 발생하는 것입니다. "
   ]
  },
  {
   "cell_type": "markdown",
   "metadata": {},
   "source": [
    "## 2. FASTQ파일의 Sequence 읽기\n",
    "위에서 알아본 차이에 근거하면, 일반적으로 FASTQ파일은 1개의 레코드라기보다 여러 개의 read들이 1개의 파일에 들어 있습니다. 따라서 SeqIO.read()메서드로 읽으면 오류가 발생하므로 SeqIO.parse() 메서드를 사용해야 합니다. "
   ]
  },
  {
   "cell_type": "code",
   "execution_count": 29,
   "metadata": {},
   "outputs": [
    {
     "name": "stdout",
     "output_type": "stream",
     "text": [
      "<class 'generator'>\n",
      "<class 'Bio.SeqRecord.SeqRecord'>\n",
      "ID: AF501235.1\n",
      "Name: AF501235.1\n",
      "Description: AF501235.1 Influenzavirus A (A/duck/Shanghai/1/2000) hemagglutinin gene, complete cds\n",
      "Number of features: 0\n",
      "Seq('ATGGAGAAAATAGTGCTTCTTCTTGCAATAGTCAGTCTTGTTAAAAGTGATCAG...AGA', SingleLetterAlphabet())\n",
      " \n"
     ]
    }
   ],
   "source": [
    "#3 SeqIO.parse() 메서드로 fASTQ파일 읽기\n",
    "from Bio import SeqIO\n",
    "\n",
    "seq = SeqIO.parse(\"sample_1.fasta\", \"fasta\")\n",
    "print(type(seq))\n",
    "for s in seq:\n",
    "    print(type(s))\n",
    "    print(s)\n",
    "    print(\" \")"
   ]
  },
  {
   "cell_type": "code",
   "execution_count": 28,
   "metadata": {},
   "outputs": [
    {
     "name": "stdout",
     "output_type": "stream",
     "text": [
      "ATGGAGAAAATAGTGCTTCTTCTTGCAATAGTCAGTCTTGTTAAAAGTGATCAGATTTGCATTGGTTACCATGCAAACAACTCGACAGAGCAGGTTGACACAATAATGGAAAAGAACGTTACTGTTACACATGCCCAAGA\n"
     ]
    }
   ],
   "source": [
    "#SeqIO.parse()를 이용해서 fastq의 서열 부분만 가져오기\n",
    "seq = SeqIO.parse(\"sample_1.fasta\", \"fasta\")\n",
    "for s in seq:\n",
    "    print(s.seq)"
   ]
  },
  {
   "cell_type": "markdown",
   "metadata": {},
   "source": [
    "연구나 업무에서 다루게 되는 FASTQ파일은 대부분 압축된 형태입니다. 압축형태는 GNU Zip이라고 불리는 gzip 파일 형태로, **파이썬의 gzip모듈을 사용하면 압축된 FASTQ파일인 fastq.gz 파일을 읽을 수 있습니다.**"
   ]
  },
  {
   "cell_type": "code",
   "execution_count": 31,
   "metadata": {},
   "outputs": [
    {
     "name": "stdout",
     "output_type": "stream",
     "text": [
      "AAGGCACCATGCAGAGATGCAAGGCCCCTTTCTAAGCCCTAGACTTCTGGATGACACTTCTAGAAACACCCTGGGCCAGAAGTGAACCTGCTGCCTTGAAGGGAATAACTCAG\n",
      "ATCTCTACCCAAAGATTAATGGGGATTGGTGTGATATACGGCTGAATTGTACC\n"
     ]
    }
   ],
   "source": [
    "#4. SeqIO.parse() 로 압축된 FASTQ 파일 읽기 - 방법1\n",
    "import gzip\n",
    "from Bio import SeqIO\n",
    "\n",
    "handle = gzip.open(\"sample_1.fastq.gz\", \"rt\")\n",
    "seq = SeqIO.parse(handle, \"fastq\")\n",
    "\n",
    "for s in seq:\n",
    "    print(s.seq)#서열만 출력"
   ]
  },
  {
   "cell_type": "code",
   "execution_count": 32,
   "metadata": {},
   "outputs": [
    {
     "name": "stdout",
     "output_type": "stream",
     "text": [
      "AAGGCACCATGCAGAGATGCAAGGCCCCTTTCTAAGCCCTAGACTTCTGGATGACACTTCTAGAAACACCCTGGGCCAGAAGTGAACCTGCTGCCTTGAAGGGAATAACTCAG\n",
      "ATCTCTACCCAAAGATTAATGGGGATTGGTGTGATATACGGCTGAATTGTACC\n"
     ]
    }
   ],
   "source": [
    "#4. SeqIO.parse() 로 압축된 FASTQ 파일 읽기 - 방법2\n",
    "import gzip\n",
    "from Bio import SeqIO\n",
    "\n",
    "with gzip.open(\"sample_1.fastq.gz\", \"rt\") as handle:\n",
    "    seq = SeqIO.parse(handle, \"fastq\")\n",
    "    \n",
    "    for s in seq:\n",
    "        print(s.seq)\n"
   ]
  },
  {
   "cell_type": "markdown",
   "metadata": {},
   "source": [
    "## 3. GenBank의 파일 읽기\n",
    "SeqIO.parse() 또는 SeqIO.read() 메서드를 활용하여 GenBank파일에 들어있는 여러 정보들을 매우 손쉽게 파싱할 수 있습니다. "
   ]
  },
  {
   "cell_type": "code",
   "execution_count": 41,
   "metadata": {},
   "outputs": [
    {
     "name": "stdout",
     "output_type": "stream",
     "text": [
      "<class 'Bio.SeqRecord.SeqRecord'>\n",
      "ID: NC_005816.1\n",
      "Name: NC_005816\n",
      "Description: Yersinia pestis biovar Microtus str. 91001 plasmid pPCP1, complete sequence\n",
      "Database cross-references: Project:58037\n",
      "Number of features: 41\n",
      "/molecule_type=DNA\n",
      "/topology=circular\n",
      "/data_file_division=BCT\n",
      "/date=21-JUL-2008\n",
      "/accessions=['NC_005816']\n",
      "/sequence_version=1\n",
      "/gi=45478711\n",
      "/keywords=['']\n",
      "/source=Yersinia pestis biovar Microtus str. 91001\n",
      "/organism=Yersinia pestis biovar Microtus str. 91001\n",
      "/taxonomy=['Bacteria', 'Proteobacteria', 'Gammaproteobacteria', 'Enterobacteriales', 'Enterobacteriaceae', 'Yersinia']\n",
      "/references=[Reference(title='Genetics of metabolic variations between Yersinia pestis biovars and the proposal of a new biovar, microtus', ...), Reference(title='Complete genome sequence of Yersinia pestis strain 91001, an isolate avirulent to humans', ...), Reference(title='Direct Submission', ...), Reference(title='Direct Submission', ...)]\n",
      "/comment=PROVISIONAL REFSEQ: This record has not yet been subject to final\n",
      "NCBI review. The reference sequence was derived from AE017046.\n",
      "COMPLETENESS: full length.\n",
      "Seq('TGTAACGAACGGTGCAATAGTGATCCACACCCAACGCCTGAAATCAGATCCAGG...CTG', IUPACAmbiguousDNA())\n"
     ]
    }
   ],
   "source": [
    "#5. GenBank 파일 읽기\n",
    "\n",
    "from Bio import SeqIO\n",
    "\n",
    "gbk = SeqIO.read(\"NC_005816.gb\", \"genbank\")#1개의 레코드만 들어있으면 SeqIO.read(), 아니면 SeqIO.parse()\n",
    "print(type(gbk))\n",
    "print(gbk)"
   ]
  },
  {
   "cell_type": "code",
   "execution_count": 42,
   "metadata": {},
   "outputs": [
    {
     "name": "stdout",
     "output_type": "stream",
     "text": [
      "NC_005816.1\n",
      "Yersinia pestis biovar Microtus str. 91001 plasmid pPCP1, complete sequence\n",
      "DNA\n",
      "Yersinia pestis biovar Microtus str. 91001\n"
     ]
    }
   ],
   "source": [
    "#6. 몇 가지 정보만 추려내기 \n",
    "print(gbk.id)\n",
    "print(gbk.description)\n",
    "print(gbk.annotations['molecule_type'])\n",
    "print(gbk.annotations['organism'])"
   ]
  },
  {
   "cell_type": "markdown",
   "metadata": {},
   "source": [
    "> gbk에 있는 정보들 목록 (바이오파이썬으로 만나는 생물정보학 101~102p)\n",
    "1. id: GenBank 파일의 ID를 말하며, 버전 정보를 포함\n",
    "2. seq: GenBank 파일의 서열을 말함\n",
    "3. name: GenBank 파일의 LOCUS를 말함\n",
    "4. description: GenBank 파일을 설명하는 내용이 들어간다. \n",
    "5. dbxrefs: 추가 데이터베이스 내용이 들어간다. \n",
    "6. features: GenBank 파일의 각  REFERENCE 항목들이 들어간다. \n",
    "7. annotation: GenBank 파일의 각 정보들이 파이썬 사전형 형태로 들어간다. \n",
    "8. letter_annotation: GenBank 파일에 추가 정보를 더 넣기 위해 만든 속성으로 파이썬 사전형 형태로 들어간다. "
   ]
  },
  {
   "cell_type": "markdown",
   "metadata": {},
   "source": [
    "## 4. 인터넷을 통한 파일 읽기\n",
    "바이오파이썬의  Entrez 모듈을 활용하여 인터넷상의 데이터를 받아와 SeqIO 모듈로 읽는 방법에 대해 알아봅니다. \n",
    "\n",
    "> 사용하는 데이터: CCR5유전자 데이터 \n",
    "\n",
    "> CCR5란: 면역 세포의 표면에서 발현하는 단백질입니다. HIV는 T 세포의 CCR5 수용체를 통해 인체에 감염됩니다. 그런데 CCR5에 변이가 있는 경우, HIV가 감염되지 못한다는 것입니다. 즉, 정상 CCR5(총 길이 1059bp) 에서 32pb가 deletion(총 길이 1027bp)된 mutation genedms HIV에 저항성이 있습니다. \n",
    "\n",
    "> Entrez 모듈이란: NCBI 정보를 웹을 통해 접근하여 정보를 가져오는 모듈입니다. 자세한 것은 뒤에서 더 배우겠지만 현재는 Entrez 모듈의 efetch 메서드를 사용하여 넷상 정보를 받아오도록 합니다. \n",
    "    >> Entrez.efetch(데이터베이스 이름, 데이터 형식, 아이디, 반환 형식)"
   ]
  },
  {
   "cell_type": "code",
   "execution_count": null,
   "metadata": {},
   "outputs": [],
   "source": [
    "#7. Entrez 모듈\n",
    "from Bio import Entrez\n",
    "\n",
    "Entrez.email = 'jhjyj5414@naver.com'\n",
    "\n",
    "\n",
    "\n",
    "\n",
    "\n",
    "\n",
    "\n",
    "\n",
    "\n",
    "\n"
   ]
  }
 ],
 "metadata": {
  "kernelspec": {
   "display_name": "Python 3",
   "language": "python",
   "name": "python3"
  },
  "language_info": {
   "codemirror_mode": {
    "name": "ipython",
    "version": 3
   },
   "file_extension": ".py",
   "mimetype": "text/x-python",
   "name": "python",
   "nbconvert_exporter": "python",
   "pygments_lexer": "ipython3",
   "version": "3.6.9"
  }
 },
 "nbformat": 4,
 "nbformat_minor": 2
}
